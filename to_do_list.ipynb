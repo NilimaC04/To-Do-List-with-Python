{
 "cells": [
  {
   "cell_type": "code",
   "execution_count": 1,
   "metadata": {},
   "outputs": [
    {
     "name": "stdout",
     "output_type": "stream",
     "text": [
      "Menu\n",
      "1. Add a task\n",
      "2. Mark as done\n",
      "3. View tasks\n",
      "4. Exit\n",
      "Enter your choice: 1\n",
      "What is to be done today? Reading\n",
      "Add a task Reading\n",
      "Menu\n",
      "1. Add a task\n",
      "2. Mark as done\n",
      "3. View tasks\n",
      "4. Exit\n",
      "Enter your choice: 1\n",
      "What is to be done today? Write a blog\n",
      "Add a task Write a blog\n",
      "Menu\n",
      "1. Add a task\n",
      "2. Mark as done\n",
      "3. View tasks\n",
      "4. Exit\n",
      "Enter your choice: 3\n",
      "View the to do task\n",
      "Reading\n",
      "Write a blog\n",
      "Menu\n",
      "1. Add a task\n",
      "2. Mark as done\n",
      "3. View tasks\n",
      "4. Exit\n",
      "Enter your choice: 2\n",
      "What is to be marked as done? Reading\n",
      "Remove task: Reading\n",
      "Menu\n",
      "1. Add a task\n",
      "2. Mark as done\n",
      "3. View tasks\n",
      "4. Exit\n",
      "Enter your choice: 4\n",
      "Goodbye\n"
     ]
    }
   ],
   "source": [
    "user_input = 'random'\n",
    "data = []\n",
    "def show_menu():\n",
    "    print('Menu')\n",
    "    print('1. Add a task')\n",
    "    print('2. Mark as done')\n",
    "    print('3. View tasks')\n",
    "    print('4. Exit')\n",
    "while user_input != '4':\n",
    "    show_menu()\n",
    "    user_input = input('Enter your choice: ')\n",
    "    if user_input == '1':\n",
    "       task = input('What is to be done today? ')\n",
    "       data.append(task)\n",
    "       print('Add a task', task)\n",
    "    elif user_input == '2':\n",
    "         task = input('What is to be marked as done? ')\n",
    "         if task in data:\n",
    "            data.remove(task)\n",
    "            print('Remove task:', task)\n",
    "         else:\n",
    "             print('Task does not exist')\n",
    "    elif user_input == '3':\n",
    "        print('View the to do task')\n",
    "        for task in data:\n",
    "            print(task)\n",
    "    elif user_input == '4':\n",
    "        print('Goodbye')\n",
    "    else:\n",
    "        print('Please enter one of 1, 2, 3, or 4')"
   ]
  },
  {
   "cell_type": "code",
   "execution_count": null,
   "metadata": {},
   "outputs": [],
   "source": []
  }
 ],
 "metadata": {
  "kernelspec": {
   "display_name": "Python 3",
   "language": "python",
   "name": "python3"
  },
  "language_info": {
   "codemirror_mode": {
    "name": "ipython",
    "version": 3
   },
   "file_extension": ".py",
   "mimetype": "text/x-python",
   "name": "python",
   "nbconvert_exporter": "python",
   "pygments_lexer": "ipython3",
   "version": "3.7.6"
  }
 },
 "nbformat": 4,
 "nbformat_minor": 4
}
